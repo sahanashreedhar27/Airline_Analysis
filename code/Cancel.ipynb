{
 "cells": [
  {
   "cell_type": "markdown",
   "metadata": {},
   "source": [
    "## Exploratory Data Analysis for 2009 - 2015 Flight Delays and Cancellations"
   ]
  },
  {
   "cell_type": "markdown",
   "metadata": {},
   "source": [
    "####  Data Profiling "
   ]
  },
  {
   "cell_type": "markdown",
   "metadata": {},
   "source": [
    "##### Import required libraries"
   ]
  },
  {
   "cell_type": "code",
   "execution_count": 1,
   "metadata": {},
   "outputs": [],
   "source": [
    "import findspark\n",
    "findspark.init()\n",
    "\n",
    "import pyspark\n",
    "from pyspark.sql.session import SparkSession\n",
    "sc = pyspark.SparkContext(appName=\"myAppName2\").getOrCreate()\n",
    "spark = SparkSession(sc)"
   ]
  },
  {
   "cell_type": "code",
   "execution_count": 2,
   "metadata": {},
   "outputs": [],
   "source": [
    "from pyspark.sql.types import *\n",
    "from pyspark.sql import functions as F \n",
    "from pyspark.sql.functions import isnan, when, count, col\n",
    "import pandas as pd "
   ]
  },
  {
   "cell_type": "markdown",
   "metadata": {},
   "source": [
    "##### Create Schema"
   ]
  },
  {
   "cell_type": "markdown",
   "metadata": {},
   "source": [
    "##### Flight Profile"
   ]
  },
  {
   "cell_type": "markdown",
   "metadata": {},
   "source": [
    "##### Chunking Data"
   ]
  },
  {
   "cell_type": "markdown",
   "metadata": {},
   "source": [
    "Our null analysis shows that the following features have a lot of null values: We will delete these rows, and omit some unnecessary columns as well. "
   ]
  },
  {
   "cell_type": "markdown",
   "metadata": {},
   "source": [
    "Verifying that there are no more null columns"
   ]
  },
  {
   "cell_type": "markdown",
   "metadata": {},
   "source": [
    "##### Flight Cancellations"
   ]
  },
  {
   "cell_type": "code",
   "execution_count": 3,
   "metadata": {},
   "outputs": [],
   "source": [
    "cancel_schema = StructType([StructField('date', StringType(), True),\n",
    "                     StructField('flight_number', StringType(), True),\n",
    "                     StructField('flight_identifier', StringType(), True),\n",
    "                     StructField('cancel', StringType(), True),\n",
    "                     StructField('reason', StringType(), True)])"
   ]
  },
  {
   "cell_type": "code",
   "execution_count": 4,
   "metadata": {},
   "outputs": [
    {
     "name": "stdout",
     "output_type": "stream",
     "text": [
      "root\n",
      " |-- date: string (nullable = true)\n",
      " |-- flight_number: string (nullable = true)\n",
      " |-- flight_identifier: string (nullable = true)\n",
      " |-- cancel: string (nullable = true)\n",
      "\n"
     ]
    }
   ],
   "source": [
    "cancel_df = spark.read.format('csv').option(\"mode\", \"DROPMALFORMED\").load('flight-cancellation.csv', header='true', schema=cancel_schema) \n",
    "cancel_df = cancel_df.drop('reason')\n",
    "cancel_df = cancel_df.dropna()\n",
    "cancel_df = cancel_df.sample(.1)\n",
    "cancel_df.printSchema()"
   ]
  },
  {
   "cell_type": "code",
   "execution_count": 5,
   "metadata": {},
   "outputs": [
    {
     "data": {
      "text/plain": [
       "6151854"
      ]
     },
     "execution_count": 5,
     "metadata": {},
     "output_type": "execute_result"
    }
   ],
   "source": [
    "cancel_df.count()"
   ]
  },
  {
   "cell_type": "code",
   "execution_count": 6,
   "metadata": {},
   "outputs": [],
   "source": [
    "from pyspark.ml.feature import OneHotEncoderEstimator, StringIndexer, VectorAssembler\n",
    "categoricalColumns = [\"date\", \"flight_number\", \"flight_identifier\"]\n",
    "#indexers = [StringIndexer(inputCol=column, outputCol=column + \"_index\").fit(cancel_df) for column in [\"date\", \"flight_number\", \"flight_identifier\", \"cancel\", \"reason\"]]"
   ]
  },
  {
   "cell_type": "code",
   "execution_count": 7,
   "metadata": {},
   "outputs": [],
   "source": [
    "stages = []\n",
    "\n",
    "for categoricalCol in categoricalColumns:\n",
    "    stringIndexer = StringIndexer(inputCol = categoricalCol, outputCol = categoricalCol + 'Index')\n",
    "    encoder = OneHotEncoderEstimator(inputCols=[stringIndexer.getOutputCol()], outputCols=[categoricalCol + \"classVec\"])\n",
    "    stages += [stringIndexer, encoder]\n",
    "\n",
    "label_stringIdx = StringIndexer(inputCol = 'cancel', outputCol = 'label')\n",
    "stages += [label_stringIdx]"
   ]
  },
  {
   "cell_type": "code",
   "execution_count": 8,
   "metadata": {},
   "outputs": [],
   "source": [
    "assemblerInputs = [c + \"classVec\" for c in categoricalColumns]\n",
    "assembler = VectorAssembler(inputCols=assemblerInputs, outputCol=\"features\")\n",
    "stages += [assembler]"
   ]
  },
  {
   "cell_type": "code",
   "execution_count": 9,
   "metadata": {},
   "outputs": [],
   "source": [
    "cols = ['date', 'flight_number',\n",
    " 'flight_identifier',\n",
    " 'cancel']"
   ]
  },
  {
   "cell_type": "code",
   "execution_count": 10,
   "metadata": {},
   "outputs": [
    {
     "name": "stdout",
     "output_type": "stream",
     "text": [
      "root\n",
      " |-- label: double (nullable = false)\n",
      " |-- features: vector (nullable = true)\n",
      " |-- date: string (nullable = true)\n",
      " |-- flight_number: string (nullable = true)\n",
      " |-- flight_identifier: string (nullable = true)\n",
      " |-- cancel: string (nullable = true)\n",
      "\n"
     ]
    }
   ],
   "source": [
    "from pyspark.ml import Pipeline\n",
    "pipeline = Pipeline(stages = stages)\n",
    "pipelineModel = pipeline.fit(cancel_df)\n",
    "cancel_df = pipelineModel.transform(cancel_df)\n",
    "selectedCols = ['label', 'features'] + cols\n",
    "cancel_df = cancel_df.select(selectedCols)\n",
    "cancel_df.printSchema()"
   ]
  },
  {
   "cell_type": "code",
   "execution_count": 11,
   "metadata": {},
   "outputs": [
    {
     "name": "stdout",
     "output_type": "stream",
     "text": [
      "+-----+--------------------+----+-------------+-----------------+------+\n",
      "|label|            features|date|flight_number|flight_identifier|cancel|\n",
      "+-----+--------------------+----+-------------+-----------------+------+\n",
      "|  0.0|(7566,[2,560,7555...|2009|         1212|               XE|     0|\n",
      "|  0.0|(7566,[2,1076,755...|2009|         1236|               XE|     0|\n",
      "|  0.0|(7566,[2,1494,755...|2009|         2002|               XE|     0|\n",
      "|  0.0|(7566,[2,1827,755...|2009|         2010|               XE|     0|\n",
      "|  0.0|(7566,[2,1629,755...|2009|         2029|               XE|     0|\n",
      "+-----+--------------------+----+-------------+-----------------+------+\n",
      "only showing top 5 rows\n",
      "\n"
     ]
    }
   ],
   "source": [
    "cancel_df.show(5)"
   ]
  },
  {
   "cell_type": "code",
   "execution_count": 12,
   "metadata": {},
   "outputs": [],
   "source": [
    "train, test = cancel_df.randomSplit([0.7, 0.3], seed = 2018)"
   ]
  },
  {
   "cell_type": "code",
   "execution_count": 13,
   "metadata": {},
   "outputs": [],
   "source": [
    "from pyspark.ml.classification import LogisticRegression\n",
    "lr = LogisticRegression(featuresCol = 'features', labelCol = 'label')\n",
    "lrModel = lr.fit(train)"
   ]
  },
  {
   "cell_type": "code",
   "execution_count": 14,
   "metadata": {},
   "outputs": [
    {
     "data": {
      "image/png": "[encoded data removed]",
      "text/plain": [
       "<Figure size 432x288 with 1 Axes>"
      ]
     },
     "metadata": {
      "needs_background": "light"
     },
     "output_type": "display_data"
    }
   ],
   "source": [
    "import matplotlib.pyplot as plt\n",
    "import numpy as np\n",
    "beta = np.sort(lrModel.coefficients)\n",
    "plt.plot(beta)\n",
    "plt.ylabel('Beta Coefficients')\n",
    "plt.xlabel('Features')\n",
    "plt.show()"
   ]
  },
  {
   "cell_type": "code",
   "execution_count": 15,
   "metadata": {},
   "outputs": [
    {
     "data": {
      "image/png": "[encoded data removed]",
      "text/plain": [
       "<Figure size 432x288 with 1 Axes>"
      ]
     },
     "metadata": {
      "needs_background": "light"
     },
     "output_type": "display_data"
    },
    {
     "name": "stdout",
     "output_type": "stream",
     "text": [
      "Training set area under ROC: 0.6831513490777816\n"
     ]
    }
   ],
   "source": [
    "trainingSummary = lrModel.summary\n",
    "roc = trainingSummary.roc.toPandas()\n",
    "plt.plot(roc['FPR'],roc['TPR'])\n",
    "plt.ylabel('False Positive Rate')\n",
    "plt.xlabel('True Positive Rate')\n",
    "plt.title('ROC Curve')\n",
    "plt.show()\n",
    "print('Training set area under ROC: ' + str(trainingSummary.areaUnderROC))"
   ]
  },
  {
   "cell_type": "code",
   "execution_count": 16,
   "metadata": {},
   "outputs": [
    {
     "data": {
      "image/png": "[encoded data removed]",
      "text/plain": [
       "<Figure size 432x288 with 1 Axes>"
      ]
     },
     "metadata": {
      "needs_background": "light"
     },
     "output_type": "display_data"
    }
   ],
   "source": [
    "pr = trainingSummary.pr.toPandas()\n",
    "plt.plot(pr['recall'],pr['precision'])\n",
    "plt.ylabel('Precision')\n",
    "plt.xlabel('Recall')\n",
    "plt.show()"
   ]
  },
  {
   "cell_type": "code",
   "execution_count": 17,
   "metadata": {},
   "outputs": [
    {
     "name": "stdout",
     "output_type": "stream",
     "text": [
      "+----+-------------+-----------------+----------+--------------------+\n",
      "|date|flight_number|flight_identifier|prediction|         probability|\n",
      "+----+-------------+-----------------+----------+--------------------+\n",
      "|2009|           16|               WN|       0.0|[0.99108781155542...|\n",
      "|2009|           16|               WN|       0.0|[0.99108781155542...|\n",
      "|2009|           16|               WN|       0.0|[0.99108781155542...|\n",
      "|2009|           16|               WN|       0.0|[0.99108781155542...|\n",
      "|2009|           16|               WN|       0.0|[0.99108781155542...|\n",
      "|2009|           16|               WN|       0.0|[0.99108781155542...|\n",
      "|2009|           16|               WN|       0.0|[0.99108781155542...|\n",
      "|2009|           16|               WN|       0.0|[0.99108781155542...|\n",
      "|2009|           16|               WN|       0.0|[0.99108781155542...|\n",
      "|2009|           16|               WN|       0.0|[0.99108781155542...|\n",
      "+----+-------------+-----------------+----------+--------------------+\n",
      "only showing top 10 rows\n",
      "\n"
     ]
    }
   ],
   "source": [
    "import matplotlib.pyplot as plt\n",
    "import numpy as np\n",
    "\n",
    "predictions = lrModel.transform(test)\n",
    "\n",
    "predictions.select('date',\n",
    " 'flight_number',\n",
    " 'flight_identifier', 'prediction', 'probability').show(10)"
   ]
  },
  {
   "cell_type": "code",
   "execution_count": 18,
   "metadata": {},
   "outputs": [
    {
     "name": "stdout",
     "output_type": "stream",
     "text": [
      "Test Area Under ROC 0.6379556663210726\n"
     ]
    }
   ],
   "source": [
    "from pyspark.ml.evaluation import BinaryClassificationEvaluator\n",
    "evaluator = BinaryClassificationEvaluator()\n",
    "print('Test Area Under ROC', evaluator.evaluate(predictions))"
   ]
  },
  {
   "cell_type": "code",
   "execution_count": 19,
   "metadata": {},
   "outputs": [
    {
     "name": "stdout",
     "output_type": "stream",
     "text": [
      "+----+-------------+-----------------+----------+--------------------+\n",
      "|date|flight_number|flight_identifier|prediction|         probability|\n",
      "+----+-------------+-----------------+----------+--------------------+\n",
      "|2009|           16|               WN|       0.0|[0.98422426119588...|\n",
      "|2009|           16|               WN|       0.0|[0.98422426119588...|\n",
      "|2009|           16|               WN|       0.0|[0.98422426119588...|\n",
      "|2009|           16|               WN|       0.0|[0.98422426119588...|\n",
      "|2009|           16|               WN|       0.0|[0.98422426119588...|\n",
      "|2009|           16|               WN|       0.0|[0.98422426119588...|\n",
      "|2009|           16|               WN|       0.0|[0.98422426119588...|\n",
      "|2009|           16|               WN|       0.0|[0.98422426119588...|\n",
      "|2009|           16|               WN|       0.0|[0.98422426119588...|\n",
      "|2009|           16|               WN|       0.0|[0.98422426119588...|\n",
      "+----+-------------+-----------------+----------+--------------------+\n",
      "only showing top 10 rows\n",
      "\n"
     ]
    }
   ],
   "source": [
    "from pyspark.ml.classification import DecisionTreeClassifier\n",
    "dt = DecisionTreeClassifier(featuresCol = 'features', labelCol = 'label', maxDepth = 3)\n",
    "dtModel = dt.fit(train)\n",
    "predictions = dtModel.transform(test)\n",
    "predictions.select('date',\n",
    " 'flight_number',\n",
    " 'flight_identifier', 'prediction', 'probability').show(10)"
   ]
  },
  {
   "cell_type": "code",
   "execution_count": 20,
   "metadata": {},
   "outputs": [
    {
     "name": "stdout",
     "output_type": "stream",
     "text": [
      "Test Area Under ROC 0.5\n"
     ]
    }
   ],
   "source": [
    "from pyspark.ml.evaluation import BinaryClassificationEvaluator\n",
    "evaluator = BinaryClassificationEvaluator()\n",
    "print('Test Area Under ROC', evaluator.evaluate(predictions))"
   ]
  },
  {
   "cell_type": "code",
   "execution_count": 21,
   "metadata": {},
   "outputs": [
    {
     "name": "stdout",
     "output_type": "stream",
     "text": [
      "+----+-------------+-----------------+----------+--------------------+\n",
      "|date|flight_number|flight_identifier|prediction|         probability|\n",
      "+----+-------------+-----------------+----------+--------------------+\n",
      "|2009|           16|               WN|       0.0|[0.98422653322642...|\n",
      "|2009|           16|               WN|       0.0|[0.98422653322642...|\n",
      "|2009|           16|               WN|       0.0|[0.98422653322642...|\n",
      "|2009|           16|               WN|       0.0|[0.98422653322642...|\n",
      "|2009|           16|               WN|       0.0|[0.98422653322642...|\n",
      "|2009|           16|               WN|       0.0|[0.98422653322642...|\n",
      "|2009|           16|               WN|       0.0|[0.98422653322642...|\n",
      "|2009|           16|               WN|       0.0|[0.98422653322642...|\n",
      "|2009|           16|               WN|       0.0|[0.98422653322642...|\n",
      "|2009|           16|               WN|       0.0|[0.98422653322642...|\n",
      "+----+-------------+-----------------+----------+--------------------+\n",
      "only showing top 10 rows\n",
      "\n"
     ]
    }
   ],
   "source": [
    "from pyspark.ml.classification import RandomForestClassifier\n",
    "rf = RandomForestClassifier(featuresCol = 'features', labelCol = 'label')\n",
    "rfModel = rf.fit(train)\n",
    "predictions = rfModel.transform(test)\n",
    "predictions.select('date',\n",
    " 'flight_number',\n",
    " 'flight_identifier', 'prediction', 'probability').show(10)"
   ]
  },
  {
   "cell_type": "code",
   "execution_count": 22,
   "metadata": {},
   "outputs": [
    {
     "name": "stdout",
     "output_type": "stream",
     "text": [
      "Test Area Under ROC: 0.5013583107118456\n"
     ]
    }
   ],
   "source": [
    "evaluator = BinaryClassificationEvaluator()\n",
    "print(\"Test Area Under ROC: \" + str(evaluator.evaluate(predictions, {evaluator.metricName: \"areaUnderROC\"})))"
   ]
  },
  {
   "cell_type": "code",
   "execution_count": 23,
   "metadata": {},
   "outputs": [
    {
     "name": "stdout",
     "output_type": "stream",
     "text": [
      "+----+-------------+-----------------+----------+--------------------+\n",
      "|date|flight_number|flight_identifier|prediction|         probability|\n",
      "+----+-------------+-----------------+----------+--------------------+\n",
      "|2009|           16|               WN|       0.0|[0.92820815029699...|\n",
      "|2009|           16|               WN|       0.0|[0.92820815029699...|\n",
      "|2009|           16|               WN|       0.0|[0.92820815029699...|\n",
      "|2009|           16|               WN|       0.0|[0.92820815029699...|\n",
      "|2009|           16|               WN|       0.0|[0.92820815029699...|\n",
      "|2009|           16|               WN|       0.0|[0.92820815029699...|\n",
      "|2009|           16|               WN|       0.0|[0.92820815029699...|\n",
      "|2009|           16|               WN|       0.0|[0.92820815029699...|\n",
      "|2009|           16|               WN|       0.0|[0.92820815029699...|\n",
      "|2009|           16|               WN|       0.0|[0.92820815029699...|\n",
      "+----+-------------+-----------------+----------+--------------------+\n",
      "only showing top 10 rows\n",
      "\n"
     ]
    }
   ],
   "source": [
    "from pyspark.ml.classification import GBTClassifier\n",
    "gbt = GBTClassifier(maxIter=10)\n",
    "gbtModel = gbt.fit(train)\n",
    "predictions = gbtModel.transform(test)\n",
    "predictions.select('date',\n",
    " 'flight_number',\n",
    " 'flight_identifier', 'prediction', 'probability').show(10)"
   ]
  },
  {
   "cell_type": "code",
   "execution_count": 24,
   "metadata": {},
   "outputs": [
    {
     "name": "stdout",
     "output_type": "stream",
     "text": [
      "Test Area Under ROC: 0.6325684868166974\n"
     ]
    }
   ],
   "source": [
    "evaluator = BinaryClassificationEvaluator()\n",
    "print(\"Test Area Under ROC: \" + str(evaluator.evaluate(predictions, {evaluator.metricName: \"areaUnderROC\"})))"
   ]
  },
  {
   "cell_type": "markdown",
   "metadata": {},
   "source": [
    "##### Flight Delays"
   ]
  },
  {
   "cell_type": "code",
   "execution_count": 25,
   "metadata": {},
   "outputs": [
    {
     "data": {
      "text/plain": [
       "0.6379975848478447"
      ]
     },
     "execution_count": 25,
     "metadata": {},
     "output_type": "execute_result"
    }
   ],
   "source": [
    "from pyspark.ml.tuning import ParamGridBuilder, CrossValidator\n",
    "paramGrid = (ParamGridBuilder()\n",
    "             .addGrid(gbt.maxDepth, [2, 4, 6])\n",
    "             .addGrid(gbt.maxBins, [20, 60])\n",
    "             .build())\n",
    "cv = CrossValidator(estimator=gbt, estimatorParamMaps=paramGrid, evaluator=evaluator, numFolds=3)# Run cross validations.  This can take about 6 minutes since it is training over 20 trees!\n",
    "cvModel = cv.fit(train)\n",
    "predictions = cvModel.transform(test)\n",
    "evaluator.evaluate(predictions)"
   ]
  },
  {
   "cell_type": "code",
   "execution_count": 32,
   "metadata": {},
   "outputs": [
    {
     "data": {
      "text/plain": [
       "GBTClassificationModel (uid=GBTClassifier_eb9d16bec292) with 10 trees"
      ]
     },
     "execution_count": 32,
     "metadata": {},
     "output_type": "execute_result"
    }
   ],
   "source": [
    "cvModel.bestModel"
   ]
  },
  {
   "cell_type": "code",
   "execution_count": 34,
   "metadata": {},
   "outputs": [
    {
     "data": {
      "text/plain": [
       "{Param(parent='GBTClassifier_eb9d16bec292', name='maxDepth', doc='Maximum depth of the tree. (>= 0) E.g., depth 0 means 1 leaf node; depth 1 means 1 internal node + 2 leaf nodes.'): 6,\n",
       " Param(parent='GBTClassifier_eb9d16bec292', name='maxBins', doc='Max number of bins for discretizing continuous features.  Must be >=2 and >= number of categories for any categorical feature.'): 20}"
      ]
     },
     "execution_count": 34,
     "metadata": {},
     "output_type": "execute_result"
    }
   ],
   "source": [
    "cvModel.getEstimatorParamMaps()[ np.argmax(cvModel.avgMetrics) ]\n"
   ]
  }
 ],
 "metadata": {
  "kernelspec": {
   "display_name": "Python 3",
   "language": "python",
   "name": "python3"
  },
  "language_info": {
   "codemirror_mode": {
    "name": "ipython",
    "version": 3
   },
   "file_extension": ".py",
   "mimetype": "text/x-python",
   "name": "python",
   "nbconvert_exporter": "python",
   "pygments_lexer": "ipython3",
   "version": "3.7.6"
  }
 },
 "nbformat": 4,
 "nbformat_minor": 4
}
